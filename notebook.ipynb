{
 "cells": [
  {
   "cell_type": "markdown",
   "metadata": {},
   "source": [
    "# Análise de dados e preparação"
   ]
  },
  {
   "cell_type": "code",
   "execution_count": 1,
   "metadata": {},
   "outputs": [],
   "source": [
    "import pandas as pd\n",
    "from collections import Counter, defaultdict"
   ]
  },
  {
   "cell_type": "code",
   "execution_count": 2,
   "metadata": {},
   "outputs": [],
   "source": [
    "caminho_arquivo = 'dicio.txt'\n",
    "\n",
    "with open(caminho_arquivo, 'r') as arquivo:\n",
    "    linhas = arquivo.readlines()\n",
    "\n",
    "palavras_termo = []\n",
    "\n",
    "for linha in linhas:\n",
    "    if len(linha.rstrip(\"\\n\"))==5:\n",
    "        palavras_termo.append(linha.rstrip(\"\\n\"))\n",
    "    \n"
   ]
  },
  {
   "cell_type": "code",
   "execution_count": 22,
   "metadata": {},
   "outputs": [
    {
     "name": "stdout",
     "output_type": "stream",
     "text": [
      "12586 19082\n"
     ]
    }
   ],
   "source": [
    "from unidecode import unidecode\n",
    "import re\n",
    "\n",
    "def normalize_word(word):\n",
    "    # Transliterar caracteres acentuados para caracteres não acentuados\n",
    "    normalized = unidecode(word)\n",
    "    \n",
    "    # Remover caracteres que não sejam letras de 'a' a 'z'\n",
    "    normalized = re.sub(r'[^a-zA-Z]', '', normalized)\n",
    "    \n",
    "    return normalized\n",
    "\n",
    "\n",
    "\n",
    "# Normalizar as palavras na lista\n",
    "palavras_termo = [normalize_word(palavra) for palavra in palavras_termo]\n",
    "print(len(palavras_termo))\n",
    "\n"
   ]
  },
  {
   "cell_type": "code",
   "execution_count": 4,
   "metadata": {},
   "outputs": [
    {
     "data": {
      "text/plain": [
       "{'a': 9940,\n",
       " 'o': 6415,\n",
       " 'i': 5533,\n",
       " 'e': 5487,\n",
       " 'r': 4375,\n",
       " 'u': 3422,\n",
       " 's': 3248,\n",
       " 'c': 2886,\n",
       " 'l': 2871,\n",
       " 'm': 2863,\n",
       " 't': 2371,\n",
       " 'n': 2298,\n",
       " 'd': 1670,\n",
       " 'p': 1636,\n",
       " 'b': 1634,\n",
       " 'g': 1493,\n",
       " 'v': 1121,\n",
       " 'f': 1071,\n",
       " 'x': 766,\n",
       " 'h': 608,\n",
       " 'j': 522,\n",
       " 'z': 516,\n",
       " 'q': 157,\n",
       " 'y': 11,\n",
       " 'w': 9,\n",
       " 'k': 7}"
      ]
     },
     "execution_count": 4,
     "metadata": {},
     "output_type": "execute_result"
    }
   ],
   "source": [
    "texto_palavras = ''.join(palavras_termo)\n",
    "frequencia = Counter(texto_palavras)\n",
    "letras_por_frequencia = dict(sorted(frequencia.items(), key=lambda item: item[1], reverse=True))\n",
    "letras_por_frequencia"
   ]
  },
  {
   "cell_type": "code",
   "execution_count": 5,
   "metadata": {},
   "outputs": [
    {
     "name": "stdout",
     "output_type": "stream",
     "text": [
      "Counter({'a': 1345, 'c': 1237, 'm': 1004, 'p': 926, 't': 786, 's': 757, 'b': 751, 'f': 647, 'r': 637, 'l': 596, 'g': 542, 'd': 499, 'v': 431, 'e': 400, 'n': 393, 'o': 367, 'i': 348, 'u': 249, 'j': 213, 'h': 162, 'z': 147, 'x': 77, 'q': 67, 'k': 3, 'w': 2})\n",
      "Counter({'a': 2438, 'o': 1834, 'e': 1676, 'i': 1572, 'u': 1454, 'r': 874, 'l': 447, 'c': 327, 'n': 313, 'm': 219, 'd': 196, 't': 163, 'b': 159, 's': 155, 'x': 132, 'h': 129, 'p': 126, 'g': 104, 'f': 88, 'v': 87, 'z': 41, 'j': 34, 'q': 9, 'w': 4, 'y': 4, 'k': 1})\n",
      "Counter({'r': 1283, 'i': 1177, 'n': 1069, 'a': 1010, 'l': 898, 'c': 738, 'e': 672, 'u': 642, 't': 642, 's': 622, 'm': 563, 'o': 536, 'g': 481, 'd': 425, 'b': 350, 'p': 327, 'x': 264, 'v': 262, 'f': 221, 'z': 141, 'j': 131, 'q': 81, 'h': 50, 'y': 1})\n",
      "Counter({'a': 2166, 'i': 1419, 'e': 1308, 'o': 861, 'r': 793, 't': 772, 'c': 575, 'd': 545, 'u': 504, 'n': 461, 'l': 442, 'm': 385, 'b': 371, 'g': 365, 's': 338, 'h': 260, 'v': 257, 'p': 255, 'x': 179, 'j': 143, 'f': 111, 'z': 73, 'w': 3})\n",
      "Counter({'a': 2981, 'o': 2817, 'e': 1431, 's': 1376, 'i': 1017, 'r': 788, 'm': 692, 'u': 573, 'l': 488, 'z': 114, 'x': 114, 'v': 84, 'n': 62, 'c': 9, 't': 8, 'h': 7, 'y': 6, 'd': 5, 'f': 4, 'k': 3, 'b': 3, 'p': 2, 'g': 1, 'j': 1})\n",
      "Na posição 0, a letra mais frequente é 'a'.\n",
      "Na posição 1, a letra mais frequente é 'a'.\n",
      "Na posição 2, a letra mais frequente é 'r'.\n",
      "Na posição 3, a letra mais frequente é 'a'.\n",
      "Na posição 4, a letra mais frequente é 'a'.\n"
     ]
    }
   ],
   "source": [
    "frequencia_por_posicao = defaultdict(Counter)\n",
    "\n",
    "# Iterar sobre as palavras e contar a frequência das letras em cada posição\n",
    "for palavra in palavras_termo:\n",
    "    for posicao, letra in enumerate(palavra):\n",
    "        frequencia_por_posicao[posicao][letra] += 1\n",
    "for posicao in frequencia_por_posicao:\n",
    "    print(frequencia_por_posicao[posicao])\n",
    "\n",
    "# Imprimir a letra mais frequente em cada posição\n",
    "for posicao, frequencia in frequencia_por_posicao.items():\n",
    "    letra_mais_frequente = frequencia.most_common(1)[0][0]\n",
    "    print(f\"Na posição {posicao}, a letra mais frequente é '{letra_mais_frequente}'.\")\n"
   ]
  },
  {
   "cell_type": "code",
   "execution_count": 6,
   "metadata": {},
   "outputs": [],
   "source": [
    "frequencia_por_posicao = defaultdict(Counter)\n",
    "\n",
    "# Iterar sobre as palavras e contar a frequência das letras em cada posição\n",
    "for palavra in palavras_termo:\n",
    "    for posicao, letra in enumerate(palavra):\n",
    "        frequencia_por_posicao[posicao][letra] += 1"
   ]
  },
  {
   "cell_type": "markdown",
   "metadata": {},
   "source": [
    "# Main code"
   ]
  },
  {
   "cell_type": "code",
   "execution_count": 7,
   "metadata": {},
   "outputs": [],
   "source": [
    "from operator import itemgetter\n",
    "\n",
    "def melhor_palavra(letra_posicao:dict, existe):\n",
    "\n",
    "    palavras_possiveis = []\n",
    "    for palavra in palavras_termo:\n",
    "        if re.search(''.join(letra_posicao), palavra):\n",
    "            palavras_possiveis.append(palavra)\n",
    "\n",
    "    chance = {}\n",
    "    for palavra in palavras_possiveis:\n",
    "        chance_palavra = 0\n",
    "        for posicao, letra in enumerate(palavra):\n",
    "            frequencia_letra = frequencia_por_posicao[posicao][letra] \n",
    "            chance_letra = frequencia_letra/len(palavras_termo) #probabilidade da letra\n",
    "            if letra in existe:\n",
    "                chance_letra *= 80\n",
    "            chance_letra /= len(re.findall(letra, palavra))\n",
    "            chance_palavra += chance_letra \n",
    "        chance[palavra] = chance_palavra\n",
    "    return sorted(chance.items(), key=itemgetter(1), reverse= True)\n",
    "\n",
    "def remove_from(validas, invalidas):\n",
    "    for posicao, letra in enumerate(invalidas):\n",
    "        validas = validas.replace(invalidas[posicao], '')\n",
    "    return validas\n"
   ]
  },
  {
   "cell_type": "markdown",
   "metadata": {},
   "source": [
    "# Jogo"
   ]
  },
  {
   "cell_type": "code",
   "execution_count": 8,
   "metadata": {},
   "outputs": [
    {
     "name": "stdout",
     "output_type": "stream",
     "text": [
      "palavra_1 = menta ou outras 1204\n",
      "[('menta', 47.68472906403941), ('penta', 47.1889400921659), ('menas', 46.34355633243286), ('senta', 46.114730653106626), ('pelta', 46.102018115366285), ('benta', 46.07659303988559), ('penas', 45.84776736055935), ('penda', 45.746067058636584), ('melas', 45.256634355633246), ('multa', 45.18671539806134)]\n"
     ]
    }
   ],
   "source": [
    "# inicializa termo crusher\n",
    "alfabeto = '[abcdefghijklmnopqrstuvwxyz]'\n",
    "letra_posicao = ['', '', '', '', '']\n",
    "\n",
    "# letras globalmente validas e invalidas\n",
    "invalidas = 'crio'\n",
    "existe = 'a'\n",
    "validas = remove_from(alfabeto,invalidas)\n",
    "\n",
    "# letras invalidas em posições específicas\n",
    "letra_posicao[0] = remove_from(validas, '')\n",
    "letra_posicao[1] = remove_from(validas, 'a')\n",
    "letra_posicao[2] = remove_from(validas, '')\n",
    "letra_posicao[3] = remove_from(validas, '')\n",
    "letra_posicao[4] = remove_from(validas, '')\n",
    "\n",
    "# Sabe letra e posição\n",
    "letra_posicao[0] \n",
    "letra_posicao[1]\n",
    "letra_posicao[2]\n",
    "letra_posicao[3]\n",
    "letra_posicao[4]\n",
    "\n",
    "# define quais palavras são possiveis com os parâmetros acima\n",
    "possiveis_palavras = melhor_palavra(letra_posicao, validas)\n",
    "\n",
    "# escolhe melhor palavra\n",
    "print(f'palavra_1 = {possiveis_palavras[0][0]} ou outras {len(possiveis_palavras)-1}')\n",
    "print(possiveis_palavras[:10])\n",
    "\n",
    "## aumentar chance quando a palavra repete se a repetição for confirmada"
   ]
  },
  {
   "cell_type": "code",
   "execution_count": 9,
   "metadata": {},
   "outputs": [],
   "source": [
    "from selenium import webdriver\n",
    "from webdriver_manager.microsoft import EdgeChromiumDriverManager\n",
    "from selenium.webdriver.common.keys import Keys\n",
    "\n",
    "from jogador_virtual import JogadorVirtual"
   ]
  },
  {
   "cell_type": "code",
   "execution_count": 10,
   "metadata": {},
   "outputs": [],
   "source": [
    "navegador = webdriver.Edge(EdgeChromiumDriverManager().install())"
   ]
  },
  {
   "cell_type": "code",
   "execution_count": 11,
   "metadata": {},
   "outputs": [],
   "source": [
    "jogador = JogadorVirtual(navegador, palavras_termo, frequencia_por_posicao)  # falta implementar outros tipos de chutes"
   ]
  },
  {
   "cell_type": "code",
   "execution_count": 18,
   "metadata": {},
   "outputs": [],
   "source": [
    "jogador.faz_melhor_chute(1)  # falta implementar modo de contornar palavras inexistentes"
   ]
  },
  {
   "cell_type": "code",
   "execution_count": 17,
   "metadata": {},
   "outputs": [],
   "source": [
    "jogador.recebe_feedback(0)  # Falta configurar para esperar carregar o site"
   ]
  },
  {
   "cell_type": "markdown",
   "metadata": {},
   "source": [
    "# Teste de novas features"
   ]
  },
  {
   "cell_type": "markdown",
   "metadata": {},
   "source": [
    "### Encontra melhor palavra com base nas melhores letras, ignorando posição"
   ]
  },
  {
   "cell_type": "code",
   "execution_count": 14,
   "metadata": {},
   "outputs": [],
   "source": [
    "def  melhor_primeira_palavra():\n",
    "    palavras_possiveis = []\n",
    "\n",
    "    chance = {}\n",
    "    for palavra in palavras_termo:\n",
    "        chance_palavra = 0\n",
    "        for posicao, letra in enumerate(palavra):\n",
    "            chance_letra = letras_por_frequencia[letra]/len(palavras_termo)\n",
    "            chance_letra /= len(re.findall(letra, palavra))\n",
    "            chance_palavra += chance_letra \n",
    "        chance[palavra] = chance_palavra\n",
    "    return sorted(chance.items(), key=itemgetter(1), reverse= True)[0][0]\n"
   ]
  },
  {
   "cell_type": "markdown",
   "metadata": {},
   "source": [
    "### Manipula o termo no navegador"
   ]
  },
  {
   "cell_type": "markdown",
   "metadata": {},
   "source": [
    "##### Cria o webDriver e abre o navegador"
   ]
  },
  {
   "cell_type": "code",
   "execution_count": 15,
   "metadata": {},
   "outputs": [],
   "source": [
    "from selenium import webdriver\n",
    "from webdriver_manager.microsoft import EdgeChromiumDriverManager\n",
    "from selenium.webdriver.edge.service import Service \n",
    "from selenium.webdriver.common.alert import Alert\n",
    "from selenium.webdriver.common.keys import Keys\n",
    "import re\n"
   ]
  },
  {
   "cell_type": "code",
   "execution_count": 16,
   "metadata": {},
   "outputs": [
    {
     "ename": "KeyboardInterrupt",
     "evalue": "",
     "output_type": "error",
     "traceback": [
      "\u001b[1;31m---------------------------------------------------------------------------\u001b[0m",
      "\u001b[1;31mKeyboardInterrupt\u001b[0m                         Traceback (most recent call last)",
      "\u001b[1;32md:\\root\\Estudos\\Independente\\programacao\\Termo_crusher\\notebook.ipynb Cell 23\u001b[0m line \u001b[0;36m1\n\u001b[1;32m----> <a href='vscode-notebook-cell:/d%3A/root/Estudos/Independente/programacao/Termo_crusher/notebook.ipynb#X31sZmlsZQ%3D%3D?line=0'>1</a>\u001b[0m navegador \u001b[39m=\u001b[39m webdriver\u001b[39m.\u001b[39mEdge(EdgeChromiumDriverManager()\u001b[39m.\u001b[39minstall())\n",
      "File \u001b[1;32mc:\\Users\\micae\\anaconda3\\Lib\\site-packages\\webdriver_manager\\microsoft.py:73\u001b[0m, in \u001b[0;36mEdgeChromiumDriverManager.install\u001b[1;34m(self)\u001b[0m\n\u001b[0;32m     72\u001b[0m \u001b[39mdef\u001b[39;00m \u001b[39minstall\u001b[39m(\u001b[39mself\u001b[39m) \u001b[39m-\u001b[39m\u001b[39m>\u001b[39m \u001b[39mstr\u001b[39m:\n\u001b[1;32m---> 73\u001b[0m     driver_path \u001b[39m=\u001b[39m \u001b[39mself\u001b[39m\u001b[39m.\u001b[39m_get_driver_binary_path(\u001b[39mself\u001b[39m\u001b[39m.\u001b[39mdriver)\n\u001b[0;32m     74\u001b[0m     os\u001b[39m.\u001b[39mchmod(driver_path, \u001b[39m0o755\u001b[39m)\n\u001b[0;32m     75\u001b[0m     \u001b[39mreturn\u001b[39;00m driver_path\n",
      "File \u001b[1;32mc:\\Users\\micae\\anaconda3\\Lib\\site-packages\\webdriver_manager\\core\\manager.py:35\u001b[0m, in \u001b[0;36mDriverManager._get_driver_binary_path\u001b[1;34m(self, driver)\u001b[0m\n\u001b[0;32m     34\u001b[0m \u001b[39mdef\u001b[39;00m \u001b[39m_get_driver_binary_path\u001b[39m(\u001b[39mself\u001b[39m, driver):\n\u001b[1;32m---> 35\u001b[0m     binary_path \u001b[39m=\u001b[39m \u001b[39mself\u001b[39m\u001b[39m.\u001b[39m_cache_manager\u001b[39m.\u001b[39mfind_driver(driver)\n\u001b[0;32m     36\u001b[0m     \u001b[39mif\u001b[39;00m binary_path:\n\u001b[0;32m     37\u001b[0m         \u001b[39mreturn\u001b[39;00m binary_path\n",
      "File \u001b[1;32mc:\\Users\\micae\\anaconda3\\Lib\\site-packages\\webdriver_manager\\core\\driver_cache.py:105\u001b[0m, in \u001b[0;36mDriverCacheManager.find_driver\u001b[1;34m(self, driver)\u001b[0m\n\u001b[0;32m    102\u001b[0m \u001b[39mif\u001b[39;00m \u001b[39mnot\u001b[39;00m browser_version:\n\u001b[0;32m    103\u001b[0m     \u001b[39mreturn\u001b[39;00m \u001b[39mNone\u001b[39;00m\n\u001b[1;32m--> 105\u001b[0m driver_version \u001b[39m=\u001b[39m \u001b[39mself\u001b[39m\u001b[39m.\u001b[39mget_cache_key_driver_version(driver)\n\u001b[0;32m    106\u001b[0m metadata \u001b[39m=\u001b[39m \u001b[39mself\u001b[39m\u001b[39m.\u001b[39mload_metadata_content()\n\u001b[0;32m    108\u001b[0m key \u001b[39m=\u001b[39m \u001b[39mself\u001b[39m\u001b[39m.\u001b[39m__get_metadata_key(driver)\n",
      "File \u001b[1;32mc:\\Users\\micae\\anaconda3\\Lib\\site-packages\\webdriver_manager\\core\\driver_cache.py:151\u001b[0m, in \u001b[0;36mDriverCacheManager.get_cache_key_driver_version\u001b[1;34m(self, driver)\u001b[0m\n\u001b[0;32m    149\u001b[0m \u001b[39mif\u001b[39;00m \u001b[39mself\u001b[39m\u001b[39m.\u001b[39m_cache_key_driver_version:\n\u001b[0;32m    150\u001b[0m     \u001b[39mreturn\u001b[39;00m \u001b[39mself\u001b[39m\u001b[39m.\u001b[39m_cache_key_driver_version\n\u001b[1;32m--> 151\u001b[0m \u001b[39mreturn\u001b[39;00m driver\u001b[39m.\u001b[39mget_driver_version_to_download()\n",
      "File \u001b[1;32mc:\\Users\\micae\\anaconda3\\Lib\\site-packages\\webdriver_manager\\core\\driver.py:48\u001b[0m, in \u001b[0;36mDriver.get_driver_version_to_download\u001b[1;34m(self)\u001b[0m\n\u001b[0;32m     45\u001b[0m \u001b[39mif\u001b[39;00m \u001b[39mself\u001b[39m\u001b[39m.\u001b[39m_driver_version_to_download:\n\u001b[0;32m     46\u001b[0m     \u001b[39mreturn\u001b[39;00m \u001b[39mself\u001b[39m\u001b[39m.\u001b[39m_driver_version_to_download\n\u001b[1;32m---> 48\u001b[0m \u001b[39mreturn\u001b[39;00m \u001b[39mself\u001b[39m\u001b[39m.\u001b[39mget_latest_release_version()\n",
      "File \u001b[1;32mc:\\Users\\micae\\anaconda3\\Lib\\site-packages\\webdriver_manager\\drivers\\edge.py:33\u001b[0m, in \u001b[0;36mEdgeChromiumDriver.get_latest_release_version\u001b[1;34m(self)\u001b[0m\n\u001b[0;32m     32\u001b[0m \u001b[39mdef\u001b[39;00m \u001b[39mget_latest_release_version\u001b[39m(\u001b[39mself\u001b[39m) \u001b[39m-\u001b[39m\u001b[39m>\u001b[39m \u001b[39mstr\u001b[39m:\n\u001b[1;32m---> 33\u001b[0m     determined_browser_version \u001b[39m=\u001b[39m \u001b[39mself\u001b[39m\u001b[39m.\u001b[39mget_browser_version_from_os()\n\u001b[0;32m     34\u001b[0m     log(\u001b[39mf\u001b[39m\u001b[39m\"\u001b[39m\u001b[39mGet LATEST \u001b[39m\u001b[39m{\u001b[39;00m\u001b[39mself\u001b[39m\u001b[39m.\u001b[39m_name\u001b[39m}\u001b[39;00m\u001b[39m version for Edge \u001b[39m\u001b[39m{\u001b[39;00mdetermined_browser_version\u001b[39m}\u001b[39;00m\u001b[39m\"\u001b[39m)\n\u001b[0;32m     36\u001b[0m     edge_driver_version_to_download \u001b[39m=\u001b[39m (\n\u001b[0;32m     37\u001b[0m         \u001b[39mself\u001b[39m\u001b[39m.\u001b[39mget_stable_release_version()\n\u001b[0;32m     38\u001b[0m         \u001b[39mif\u001b[39;00m (determined_browser_version \u001b[39mis\u001b[39;00m \u001b[39mNone\u001b[39;00m)\n\u001b[0;32m     39\u001b[0m         \u001b[39melse\u001b[39;00m determined_browser_version\n\u001b[0;32m     40\u001b[0m     )\n",
      "File \u001b[1;32mc:\\Users\\micae\\anaconda3\\Lib\\site-packages\\webdriver_manager\\core\\driver.py:63\u001b[0m, in \u001b[0;36mDriver.get_browser_version_from_os\u001b[1;34m(self)\u001b[0m\n\u001b[0;32m     55\u001b[0m \u001b[39m\u001b[39m\u001b[39m\"\"\"\u001b[39;00m\n\u001b[0;32m     56\u001b[0m \u001b[39mUse-cases:\u001b[39;00m\n\u001b[0;32m     57\u001b[0m \u001b[39m- for key in metadata;\u001b[39;00m\n\u001b[1;32m   (...)\u001b[0m\n\u001b[0;32m     60\u001b[0m \u001b[39mNote: the fallback may have collisions in user cases when previous browser was not uninstalled properly.\u001b[39;00m\n\u001b[0;32m     61\u001b[0m \u001b[39m\"\"\"\u001b[39;00m\n\u001b[0;32m     62\u001b[0m \u001b[39mif\u001b[39;00m \u001b[39mself\u001b[39m\u001b[39m.\u001b[39m_browser_version \u001b[39mis\u001b[39;00m \u001b[39mNone\u001b[39;00m:\n\u001b[1;32m---> 63\u001b[0m     \u001b[39mself\u001b[39m\u001b[39m.\u001b[39m_browser_version \u001b[39m=\u001b[39m \u001b[39mself\u001b[39m\u001b[39m.\u001b[39m_os_system_manager\u001b[39m.\u001b[39mget_browser_version_from_os(\u001b[39mself\u001b[39m\u001b[39m.\u001b[39mget_browser_type())\n\u001b[0;32m     64\u001b[0m \u001b[39mreturn\u001b[39;00m \u001b[39mself\u001b[39m\u001b[39m.\u001b[39m_browser_version\n",
      "File \u001b[1;32mc:\\Users\\micae\\anaconda3\\Lib\\site-packages\\webdriver_manager\\core\\os_manager.py:89\u001b[0m, in \u001b[0;36mOperationSystemManager.get_browser_version_from_os\u001b[1;34m(self, browser_type)\u001b[0m\n\u001b[0;32m     67\u001b[0m \u001b[39mdef\u001b[39;00m \u001b[39mget_browser_version_from_os\u001b[39m(\u001b[39mself\u001b[39m, browser_type\u001b[39m=\u001b[39m\u001b[39mNone\u001b[39;00m):\n\u001b[0;32m     68\u001b[0m \u001b[39m    \u001b[39m\u001b[39m\"\"\"Return installed browser version.\"\"\"\u001b[39;00m\n\u001b[0;32m     69\u001b[0m     cmd_mapping \u001b[39m=\u001b[39m {\n\u001b[0;32m     70\u001b[0m         ChromeType\u001b[39m.\u001b[39mGOOGLE: {\n\u001b[0;32m     71\u001b[0m             OSType\u001b[39m.\u001b[39mLINUX: linux_browser_apps_to_cmd(\n\u001b[0;32m     72\u001b[0m                 \u001b[39m\"\u001b[39m\u001b[39mgoogle-chrome\u001b[39m\u001b[39m\"\u001b[39m,\n\u001b[0;32m     73\u001b[0m                 \u001b[39m\"\u001b[39m\u001b[39mgoogle-chrome-stable\u001b[39m\u001b[39m\"\u001b[39m,\n\u001b[0;32m     74\u001b[0m                 \u001b[39m\"\u001b[39m\u001b[39mgoogle-chrome-beta\u001b[39m\u001b[39m\"\u001b[39m,\n\u001b[0;32m     75\u001b[0m                 \u001b[39m\"\u001b[39m\u001b[39mgoogle-chrome-dev\u001b[39m\u001b[39m\"\u001b[39m,\n\u001b[0;32m     76\u001b[0m             ),\n\u001b[0;32m     77\u001b[0m             OSType\u001b[39m.\u001b[39mMAC: \u001b[39mr\u001b[39m\u001b[39m\"\u001b[39m\u001b[39m/Applications/Google\u001b[39m\u001b[39m\\\u001b[39m\u001b[39m Chrome.app/Contents/MacOS/Google\u001b[39m\u001b[39m\\\u001b[39m\u001b[39m Chrome --version\u001b[39m\u001b[39m\"\u001b[39m,\n\u001b[0;32m     78\u001b[0m             OSType\u001b[39m.\u001b[39mWIN: windows_browser_apps_to_cmd(\n\u001b[0;32m     79\u001b[0m                 \u001b[39mr\u001b[39m\u001b[39m'\u001b[39m\u001b[39m(Get-Item -Path \u001b[39m\u001b[39m\"\u001b[39m\u001b[39m$env:PROGRAMFILES\u001b[39m\u001b[39m\\\u001b[39m\u001b[39mGoogle\u001b[39m\u001b[39m\\\u001b[39m\u001b[39mChrome\u001b[39m\u001b[39m\\\u001b[39m\u001b[39mApplication\u001b[39m\u001b[39m\\\u001b[39m\u001b[39mchrome.exe\u001b[39m\u001b[39m\"\u001b[39m\u001b[39m).VersionInfo.FileVersion\u001b[39m\u001b[39m'\u001b[39m,\n\u001b[0;32m     80\u001b[0m                 \u001b[39mr\u001b[39m\u001b[39m'\u001b[39m\u001b[39m(Get-Item -Path \u001b[39m\u001b[39m\"\u001b[39m\u001b[39m$env:PROGRAMFILES (x86)\u001b[39m\u001b[39m\\\u001b[39m\u001b[39mGoogle\u001b[39m\u001b[39m\\\u001b[39m\u001b[39mChrome\u001b[39m\u001b[39m\\\u001b[39m\u001b[39mApplication\u001b[39m\u001b[39m\\\u001b[39m\u001b[39mchrome.exe\u001b[39m\u001b[39m\"\u001b[39m\u001b[39m).VersionInfo.FileVersion\u001b[39m\u001b[39m'\u001b[39m,\n\u001b[0;32m     81\u001b[0m                 \u001b[39mr\u001b[39m\u001b[39m'\u001b[39m\u001b[39m(Get-Item -Path \u001b[39m\u001b[39m\"\u001b[39m\u001b[39m$env:LOCALAPPDATA\u001b[39m\u001b[39m\\\u001b[39m\u001b[39mGoogle\u001b[39m\u001b[39m\\\u001b[39m\u001b[39mChrome\u001b[39m\u001b[39m\\\u001b[39m\u001b[39mApplication\u001b[39m\u001b[39m\\\u001b[39m\u001b[39mchrome.exe\u001b[39m\u001b[39m\"\u001b[39m\u001b[39m).VersionInfo.FileVersion\u001b[39m\u001b[39m'\u001b[39m,\n\u001b[0;32m     82\u001b[0m                 \u001b[39mr\u001b[39m\u001b[39m'\u001b[39m\u001b[39m(Get-ItemProperty -Path Registry::\u001b[39m\u001b[39m\"\u001b[39m\u001b[39mHKCU\u001b[39m\u001b[39m\\\u001b[39m\u001b[39mSOFTWARE\u001b[39m\u001b[39m\\\u001b[39m\u001b[39mGoogle\u001b[39m\u001b[39m\\\u001b[39m\u001b[39mChrome\u001b[39m\u001b[39m\\\u001b[39m\u001b[39mBLBeacon\u001b[39m\u001b[39m\"\u001b[39m\u001b[39m).version\u001b[39m\u001b[39m'\u001b[39m,\n\u001b[0;32m     83\u001b[0m                 \u001b[39mr\u001b[39m\u001b[39m'\u001b[39m\u001b[39m(Get-ItemProperty -Path Registry::\u001b[39m\u001b[39m\"\u001b[39m\u001b[39mHKLM\u001b[39m\u001b[39m\\\u001b[39m\u001b[39mSOFTWARE\u001b[39m\u001b[39m\\\u001b[39m\u001b[39mWow6432Node\u001b[39m\u001b[39m\\\u001b[39m\u001b[39mMicrosoft\u001b[39m\u001b[39m\\\u001b[39m\u001b[39mWindows\u001b[39m\u001b[39m\\\u001b[39m\u001b[39mCurrentVersion\u001b[39m\u001b[39m\\\u001b[39m\u001b[39mUninstall\u001b[39m\u001b[39m\\\u001b[39m\u001b[39mGoogle Chrome\u001b[39m\u001b[39m\"\u001b[39m\u001b[39m).version\u001b[39m\u001b[39m'\u001b[39m,\n\u001b[0;32m     84\u001b[0m             ),\n\u001b[0;32m     85\u001b[0m         },\n\u001b[0;32m     86\u001b[0m         ChromeType\u001b[39m.\u001b[39mCHROMIUM: {\n\u001b[0;32m     87\u001b[0m             OSType\u001b[39m.\u001b[39mLINUX: linux_browser_apps_to_cmd(\u001b[39m\"\u001b[39m\u001b[39mchromium\u001b[39m\u001b[39m\"\u001b[39m, \u001b[39m\"\u001b[39m\u001b[39mchromium-browser\u001b[39m\u001b[39m\"\u001b[39m),\n\u001b[0;32m     88\u001b[0m             OSType\u001b[39m.\u001b[39mMAC: \u001b[39mr\u001b[39m\u001b[39m\"\u001b[39m\u001b[39m/Applications/Chromium.app/Contents/MacOS/Chromium --version\u001b[39m\u001b[39m\"\u001b[39m,\n\u001b[1;32m---> 89\u001b[0m             OSType\u001b[39m.\u001b[39mWIN: windows_browser_apps_to_cmd(\n\u001b[0;32m     90\u001b[0m                 \u001b[39mr\u001b[39m\u001b[39m'\u001b[39m\u001b[39m(Get-Item -Path \u001b[39m\u001b[39m\"\u001b[39m\u001b[39m$env:PROGRAMFILES\u001b[39m\u001b[39m\\\u001b[39m\u001b[39mChromium\u001b[39m\u001b[39m\\\u001b[39m\u001b[39mApplication\u001b[39m\u001b[39m\\\u001b[39m\u001b[39mchrome.exe\u001b[39m\u001b[39m\"\u001b[39m\u001b[39m).VersionInfo.FileVersion\u001b[39m\u001b[39m'\u001b[39m,\n\u001b[0;32m     91\u001b[0m                 \u001b[39mr\u001b[39m\u001b[39m'\u001b[39m\u001b[39m(Get-Item -Path \u001b[39m\u001b[39m\"\u001b[39m\u001b[39m$env:PROGRAMFILES (x86)\u001b[39m\u001b[39m\\\u001b[39m\u001b[39mChromium\u001b[39m\u001b[39m\\\u001b[39m\u001b[39mApplication\u001b[39m\u001b[39m\\\u001b[39m\u001b[39mchrome.exe\u001b[39m\u001b[39m\"\u001b[39m\u001b[39m).VersionInfo.FileVersion\u001b[39m\u001b[39m'\u001b[39m,\n\u001b[0;32m     92\u001b[0m                 \u001b[39mr\u001b[39m\u001b[39m'\u001b[39m\u001b[39m(Get-Item -Path \u001b[39m\u001b[39m\"\u001b[39m\u001b[39m$env:LOCALAPPDATA\u001b[39m\u001b[39m\\\u001b[39m\u001b[39mChromium\u001b[39m\u001b[39m\\\u001b[39m\u001b[39mApplication\u001b[39m\u001b[39m\\\u001b[39m\u001b[39mchrome.exe\u001b[39m\u001b[39m\"\u001b[39m\u001b[39m).VersionInfo.FileVersion\u001b[39m\u001b[39m'\u001b[39m,\n\u001b[0;32m     93\u001b[0m                 \u001b[39mr\u001b[39m\u001b[39m'\u001b[39m\u001b[39m(Get-ItemProperty -Path Registry::\u001b[39m\u001b[39m\"\u001b[39m\u001b[39mHKCU\u001b[39m\u001b[39m\\\u001b[39m\u001b[39mSOFTWARE\u001b[39m\u001b[39m\\\u001b[39m\u001b[39mChromium\u001b[39m\u001b[39m\\\u001b[39m\u001b[39mBLBeacon\u001b[39m\u001b[39m\"\u001b[39m\u001b[39m).version\u001b[39m\u001b[39m'\u001b[39m,\n\u001b[0;32m     94\u001b[0m                 \u001b[39mr\u001b[39m\u001b[39m'\u001b[39m\u001b[39m(Get-ItemProperty -Path Registry::\u001b[39m\u001b[39m\"\u001b[39m\u001b[39mHKLM\u001b[39m\u001b[39m\\\u001b[39m\u001b[39mSOFTWARE\u001b[39m\u001b[39m\\\u001b[39m\u001b[39mWow6432Node\u001b[39m\u001b[39m\\\u001b[39m\u001b[39mMicrosoft\u001b[39m\u001b[39m\\\u001b[39m\u001b[39mWindows\u001b[39m\u001b[39m\\\u001b[39m\u001b[39mCurrentVersion\u001b[39m\u001b[39m\\\u001b[39m\u001b[39mUninstall\u001b[39m\u001b[39m\\\u001b[39m\u001b[39mChromium\u001b[39m\u001b[39m\"\u001b[39m\u001b[39m).version\u001b[39m\u001b[39m'\u001b[39m,\n\u001b[0;32m     95\u001b[0m             ),\n\u001b[0;32m     96\u001b[0m         },\n\u001b[0;32m     97\u001b[0m         ChromeType\u001b[39m.\u001b[39mBRAVE: {\n\u001b[0;32m     98\u001b[0m             OSType\u001b[39m.\u001b[39mLINUX: linux_browser_apps_to_cmd(\n\u001b[0;32m     99\u001b[0m                 \u001b[39m\"\u001b[39m\u001b[39mbrave-browser\u001b[39m\u001b[39m\"\u001b[39m, \u001b[39m\"\u001b[39m\u001b[39mbrave-browser-beta\u001b[39m\u001b[39m\"\u001b[39m, \u001b[39m\"\u001b[39m\u001b[39mbrave-browser-nightly\u001b[39m\u001b[39m\"\u001b[39m\n\u001b[0;32m    100\u001b[0m             ),\n\u001b[0;32m    101\u001b[0m             OSType\u001b[39m.\u001b[39mMAC: \u001b[39mr\u001b[39m\u001b[39m\"\u001b[39m\u001b[39m/Applications/Brave\u001b[39m\u001b[39m\\\u001b[39m\u001b[39m Browser.app/Contents/MacOS/Brave\u001b[39m\u001b[39m\\\u001b[39m\u001b[39m Browser --version\u001b[39m\u001b[39m\"\u001b[39m,\n\u001b[0;32m    102\u001b[0m             OSType\u001b[39m.\u001b[39mWIN: windows_browser_apps_to_cmd(\n\u001b[0;32m    103\u001b[0m                 \u001b[39mr\u001b[39m\u001b[39m'\u001b[39m\u001b[39m(Get-Item -Path \u001b[39m\u001b[39m\"\u001b[39m\u001b[39m$env:PROGRAMFILES\u001b[39m\u001b[39m\\\u001b[39m\u001b[39mBraveSoftware\u001b[39m\u001b[39m\\\u001b[39m\u001b[39mBrave-Browser\u001b[39m\u001b[39m\\\u001b[39m\u001b[39mApplication\u001b[39m\u001b[39m\\\u001b[39m\u001b[39mbrave.exe\u001b[39m\u001b[39m\"\u001b[39m\u001b[39m).VersionInfo.FileVersion\u001b[39m\u001b[39m'\u001b[39m,\n\u001b[0;32m    104\u001b[0m                 \u001b[39mr\u001b[39m\u001b[39m'\u001b[39m\u001b[39m(Get-Item -Path \u001b[39m\u001b[39m\"\u001b[39m\u001b[39m$env:PROGRAMFILES (x86)\u001b[39m\u001b[39m\\\u001b[39m\u001b[39mBraveSoftware\u001b[39m\u001b[39m\\\u001b[39m\u001b[39mBrave-Browser\u001b[39m\u001b[39m\\\u001b[39m\u001b[39mApplication\u001b[39m\u001b[39m\\\u001b[39m\u001b[39mbrave.exe\u001b[39m\u001b[39m\"\u001b[39m\u001b[39m).VersionInfo.FileVersion\u001b[39m\u001b[39m'\u001b[39m,\n\u001b[0;32m    105\u001b[0m                 \u001b[39mr\u001b[39m\u001b[39m'\u001b[39m\u001b[39m(Get-Item -Path \u001b[39m\u001b[39m\"\u001b[39m\u001b[39m$env:LOCALAPPDATA\u001b[39m\u001b[39m\\\u001b[39m\u001b[39mBraveSoftware\u001b[39m\u001b[39m\\\u001b[39m\u001b[39mBrave-Browser\u001b[39m\u001b[39m\\\u001b[39m\u001b[39mApplication\u001b[39m\u001b[39m\\\u001b[39m\u001b[39mbrave.exe\u001b[39m\u001b[39m\"\u001b[39m\u001b[39m).VersionInfo.FileVersion\u001b[39m\u001b[39m'\u001b[39m,\n\u001b[0;32m    106\u001b[0m                 \u001b[39mr\u001b[39m\u001b[39m'\u001b[39m\u001b[39m(Get-ItemProperty -Path Registry::\u001b[39m\u001b[39m\"\u001b[39m\u001b[39mHKCU\u001b[39m\u001b[39m\\\u001b[39m\u001b[39mSOFTWARE\u001b[39m\u001b[39m\\\u001b[39m\u001b[39mBraveSoftware\u001b[39m\u001b[39m\\\u001b[39m\u001b[39mBrave-Browser\u001b[39m\u001b[39m\\\u001b[39m\u001b[39mBLBeacon\u001b[39m\u001b[39m\"\u001b[39m\u001b[39m).version\u001b[39m\u001b[39m'\u001b[39m,\n\u001b[0;32m    107\u001b[0m                 \u001b[39mr\u001b[39m\u001b[39m'\u001b[39m\u001b[39m(Get-ItemProperty -Path Registry::\u001b[39m\u001b[39m\"\u001b[39m\u001b[39mHKLM\u001b[39m\u001b[39m\\\u001b[39m\u001b[39mSOFTWARE\u001b[39m\u001b[39m\\\u001b[39m\u001b[39mWow6432Node\u001b[39m\u001b[39m\\\u001b[39m\u001b[39mMicrosoft\u001b[39m\u001b[39m\\\u001b[39m\u001b[39mWindows\u001b[39m\u001b[39m\\\u001b[39m\u001b[39mCurrentVersion\u001b[39m\u001b[39m\\\u001b[39m\u001b[39mUninstall\u001b[39m\u001b[39m\\\u001b[39m\u001b[39mBraveSoftware Brave-Browser\u001b[39m\u001b[39m\"\u001b[39m\u001b[39m).version\u001b[39m\u001b[39m'\u001b[39m,\n\u001b[0;32m    108\u001b[0m             ),\n\u001b[0;32m    109\u001b[0m         },\n\u001b[0;32m    110\u001b[0m         ChromeType\u001b[39m.\u001b[39mMSEDGE: {\n\u001b[0;32m    111\u001b[0m             OSType\u001b[39m.\u001b[39mLINUX: linux_browser_apps_to_cmd(\n\u001b[0;32m    112\u001b[0m                 \u001b[39m\"\u001b[39m\u001b[39mmicrosoft-edge\u001b[39m\u001b[39m\"\u001b[39m,\n\u001b[0;32m    113\u001b[0m                 \u001b[39m\"\u001b[39m\u001b[39mmicrosoft-edge-stable\u001b[39m\u001b[39m\"\u001b[39m,\n\u001b[0;32m    114\u001b[0m                 \u001b[39m\"\u001b[39m\u001b[39mmicrosoft-edge-beta\u001b[39m\u001b[39m\"\u001b[39m,\n\u001b[0;32m    115\u001b[0m                 \u001b[39m\"\u001b[39m\u001b[39mmicrosoft-edge-dev\u001b[39m\u001b[39m\"\u001b[39m,\n\u001b[0;32m    116\u001b[0m             ),\n\u001b[0;32m    117\u001b[0m             OSType\u001b[39m.\u001b[39mMAC: \u001b[39mr\u001b[39m\u001b[39m\"\u001b[39m\u001b[39m/Applications/Microsoft\u001b[39m\u001b[39m\\\u001b[39m\u001b[39m Edge.app/Contents/MacOS/Microsoft\u001b[39m\u001b[39m\\\u001b[39m\u001b[39m Edge --version\u001b[39m\u001b[39m\"\u001b[39m,\n\u001b[0;32m    118\u001b[0m             OSType\u001b[39m.\u001b[39mWIN: windows_browser_apps_to_cmd(\n\u001b[0;32m    119\u001b[0m                 \u001b[39m# stable edge\u001b[39;00m\n\u001b[0;32m    120\u001b[0m                 \u001b[39mr\u001b[39m\u001b[39m'\u001b[39m\u001b[39m(Get-Item -Path \u001b[39m\u001b[39m\"\u001b[39m\u001b[39m$env:PROGRAMFILES\u001b[39m\u001b[39m\\\u001b[39m\u001b[39mMicrosoft\u001b[39m\u001b[39m\\\u001b[39m\u001b[39mEdge\u001b[39m\u001b[39m\\\u001b[39m\u001b[39mApplication\u001b[39m\u001b[39m\\\u001b[39m\u001b[39mmsedge.exe\u001b[39m\u001b[39m\"\u001b[39m\u001b[39m).VersionInfo.FileVersion\u001b[39m\u001b[39m'\u001b[39m,\n\u001b[0;32m    121\u001b[0m                 \u001b[39mr\u001b[39m\u001b[39m'\u001b[39m\u001b[39m(Get-Item -Path \u001b[39m\u001b[39m\"\u001b[39m\u001b[39m$env:PROGRAMFILES (x86)\u001b[39m\u001b[39m\\\u001b[39m\u001b[39mMicrosoft\u001b[39m\u001b[39m\\\u001b[39m\u001b[39mEdge\u001b[39m\u001b[39m\\\u001b[39m\u001b[39mApplication\u001b[39m\u001b[39m\\\u001b[39m\u001b[39mmsedge.exe\u001b[39m\u001b[39m\"\u001b[39m\u001b[39m).VersionInfo.FileVersion\u001b[39m\u001b[39m'\u001b[39m,\n\u001b[0;32m    122\u001b[0m                 \u001b[39mr\u001b[39m\u001b[39m'\u001b[39m\u001b[39m(Get-ItemProperty -Path Registry::\u001b[39m\u001b[39m\"\u001b[39m\u001b[39mHKCU\u001b[39m\u001b[39m\\\u001b[39m\u001b[39mSOFTWARE\u001b[39m\u001b[39m\\\u001b[39m\u001b[39mMicrosoft\u001b[39m\u001b[39m\\\u001b[39m\u001b[39mEdge\u001b[39m\u001b[39m\\\u001b[39m\u001b[39mBLBeacon\u001b[39m\u001b[39m\"\u001b[39m\u001b[39m).version\u001b[39m\u001b[39m'\u001b[39m,\n\u001b[0;32m    123\u001b[0m                 \u001b[39mr\u001b[39m\u001b[39m'\u001b[39m\u001b[39m(Get-ItemProperty -Path Registry::\u001b[39m\u001b[39m\"\u001b[39m\u001b[39mHKLM\u001b[39m\u001b[39m\\\u001b[39m\u001b[39mSOFTWARE\u001b[39m\u001b[39m\\\u001b[39m\u001b[39mMicrosoft\u001b[39m\u001b[39m\\\u001b[39m\u001b[39mEdgeUpdate\u001b[39m\u001b[39m\\\u001b[39m\u001b[39mClients\u001b[39m\u001b[39m\\\u001b[39m\u001b[39m{\u001b[39m\u001b[39m56EB18F8-8008-4CBD-B6D2-8C97FE7E9062}\u001b[39m\u001b[39m\"\u001b[39m\u001b[39m).pv\u001b[39m\u001b[39m'\u001b[39m,\n\u001b[0;32m    124\u001b[0m                 \u001b[39m# beta edge\u001b[39;00m\n\u001b[0;32m    125\u001b[0m                 \u001b[39mr\u001b[39m\u001b[39m'\u001b[39m\u001b[39m(Get-Item -Path \u001b[39m\u001b[39m\"\u001b[39m\u001b[39m$env:LOCALAPPDATA\u001b[39m\u001b[39m\\\u001b[39m\u001b[39mMicrosoft\u001b[39m\u001b[39m\\\u001b[39m\u001b[39mEdge Beta\u001b[39m\u001b[39m\\\u001b[39m\u001b[39mApplication\u001b[39m\u001b[39m\\\u001b[39m\u001b[39mmsedge.exe\u001b[39m\u001b[39m\"\u001b[39m\u001b[39m).VersionInfo.FileVersion\u001b[39m\u001b[39m'\u001b[39m,\n\u001b[0;32m    126\u001b[0m                 \u001b[39mr\u001b[39m\u001b[39m'\u001b[39m\u001b[39m(Get-Item -Path \u001b[39m\u001b[39m\"\u001b[39m\u001b[39m$env:PROGRAMFILES\u001b[39m\u001b[39m\\\u001b[39m\u001b[39mMicrosoft\u001b[39m\u001b[39m\\\u001b[39m\u001b[39mEdge Beta\u001b[39m\u001b[39m\\\u001b[39m\u001b[39mApplication\u001b[39m\u001b[39m\\\u001b[39m\u001b[39mmsedge.exe\u001b[39m\u001b[39m\"\u001b[39m\u001b[39m).VersionInfo.FileVersion\u001b[39m\u001b[39m'\u001b[39m,\n\u001b[0;32m    127\u001b[0m                 \u001b[39mr\u001b[39m\u001b[39m'\u001b[39m\u001b[39m(Get-Item -Path \u001b[39m\u001b[39m\"\u001b[39m\u001b[39m$env:PROGRAMFILES (x86)\u001b[39m\u001b[39m\\\u001b[39m\u001b[39mMicrosoft\u001b[39m\u001b[39m\\\u001b[39m\u001b[39mEdge Beta\u001b[39m\u001b[39m\\\u001b[39m\u001b[39mApplication\u001b[39m\u001b[39m\\\u001b[39m\u001b[39mmsedge.exe\u001b[39m\u001b[39m\"\u001b[39m\u001b[39m).VersionInfo.FileVersion\u001b[39m\u001b[39m'\u001b[39m,\n\u001b[0;32m    128\u001b[0m                 \u001b[39mr\u001b[39m\u001b[39m'\u001b[39m\u001b[39m(Get-ItemProperty -Path Registry::\u001b[39m\u001b[39m\"\u001b[39m\u001b[39mHKCU\u001b[39m\u001b[39m\\\u001b[39m\u001b[39mSOFTWARE\u001b[39m\u001b[39m\\\u001b[39m\u001b[39mMicrosoft\u001b[39m\u001b[39m\\\u001b[39m\u001b[39mEdge Beta\u001b[39m\u001b[39m\\\u001b[39m\u001b[39mBLBeacon\u001b[39m\u001b[39m\"\u001b[39m\u001b[39m).version\u001b[39m\u001b[39m'\u001b[39m,\n\u001b[0;32m    129\u001b[0m                 \u001b[39m# dev edge\u001b[39;00m\n\u001b[0;32m    130\u001b[0m                 \u001b[39mr\u001b[39m\u001b[39m'\u001b[39m\u001b[39m(Get-Item -Path \u001b[39m\u001b[39m\"\u001b[39m\u001b[39m$env:LOCALAPPDATA\u001b[39m\u001b[39m\\\u001b[39m\u001b[39mMicrosoft\u001b[39m\u001b[39m\\\u001b[39m\u001b[39mEdge Dev\u001b[39m\u001b[39m\\\u001b[39m\u001b[39mApplication\u001b[39m\u001b[39m\\\u001b[39m\u001b[39mmsedge.exe\u001b[39m\u001b[39m\"\u001b[39m\u001b[39m).VersionInfo.FileVersion\u001b[39m\u001b[39m'\u001b[39m,\n\u001b[0;32m    131\u001b[0m                 \u001b[39mr\u001b[39m\u001b[39m'\u001b[39m\u001b[39m(Get-Item -Path \u001b[39m\u001b[39m\"\u001b[39m\u001b[39m$env:PROGRAMFILES\u001b[39m\u001b[39m\\\u001b[39m\u001b[39mMicrosoft\u001b[39m\u001b[39m\\\u001b[39m\u001b[39mEdge Dev\u001b[39m\u001b[39m\\\u001b[39m\u001b[39mApplication\u001b[39m\u001b[39m\\\u001b[39m\u001b[39mmsedge.exe\u001b[39m\u001b[39m\"\u001b[39m\u001b[39m).VersionInfo.FileVersion\u001b[39m\u001b[39m'\u001b[39m,\n\u001b[0;32m    132\u001b[0m                 \u001b[39mr\u001b[39m\u001b[39m'\u001b[39m\u001b[39m(Get-Item -Path \u001b[39m\u001b[39m\"\u001b[39m\u001b[39m$env:PROGRAMFILES (x86)\u001b[39m\u001b[39m\\\u001b[39m\u001b[39mMicrosoft\u001b[39m\u001b[39m\\\u001b[39m\u001b[39mEdge Dev\u001b[39m\u001b[39m\\\u001b[39m\u001b[39mApplication\u001b[39m\u001b[39m\\\u001b[39m\u001b[39mmsedge.exe\u001b[39m\u001b[39m\"\u001b[39m\u001b[39m).VersionInfo.FileVersion\u001b[39m\u001b[39m'\u001b[39m,\n\u001b[0;32m    133\u001b[0m                 \u001b[39mr\u001b[39m\u001b[39m'\u001b[39m\u001b[39m(Get-ItemProperty -Path Registry::\u001b[39m\u001b[39m\"\u001b[39m\u001b[39mHKCU\u001b[39m\u001b[39m\\\u001b[39m\u001b[39mSOFTWARE\u001b[39m\u001b[39m\\\u001b[39m\u001b[39mMicrosoft\u001b[39m\u001b[39m\\\u001b[39m\u001b[39mEdge Dev\u001b[39m\u001b[39m\\\u001b[39m\u001b[39mBLBeacon\u001b[39m\u001b[39m\"\u001b[39m\u001b[39m).version\u001b[39m\u001b[39m'\u001b[39m,\n\u001b[0;32m    134\u001b[0m                 \u001b[39m# canary edge\u001b[39;00m\n\u001b[0;32m    135\u001b[0m                 \u001b[39mr\u001b[39m\u001b[39m'\u001b[39m\u001b[39m(Get-Item -Path \u001b[39m\u001b[39m\"\u001b[39m\u001b[39m$env:LOCALAPPDATA\u001b[39m\u001b[39m\\\u001b[39m\u001b[39mMicrosoft\u001b[39m\u001b[39m\\\u001b[39m\u001b[39mEdge SxS\u001b[39m\u001b[39m\\\u001b[39m\u001b[39mApplication\u001b[39m\u001b[39m\\\u001b[39m\u001b[39mmsedge.exe\u001b[39m\u001b[39m\"\u001b[39m\u001b[39m).VersionInfo.FileVersion\u001b[39m\u001b[39m'\u001b[39m,\n\u001b[0;32m    136\u001b[0m                 \u001b[39mr\u001b[39m\u001b[39m'\u001b[39m\u001b[39m(Get-ItemProperty -Path Registry::\u001b[39m\u001b[39m\"\u001b[39m\u001b[39mHKCU\u001b[39m\u001b[39m\\\u001b[39m\u001b[39mSOFTWARE\u001b[39m\u001b[39m\\\u001b[39m\u001b[39mMicrosoft\u001b[39m\u001b[39m\\\u001b[39m\u001b[39mEdge SxS\u001b[39m\u001b[39m\\\u001b[39m\u001b[39mBLBeacon\u001b[39m\u001b[39m\"\u001b[39m\u001b[39m).version\u001b[39m\u001b[39m'\u001b[39m,\n\u001b[0;32m    137\u001b[0m                 \u001b[39m# highest edge\u001b[39;00m\n\u001b[0;32m    138\u001b[0m                 \u001b[39mr\u001b[39m\u001b[39m\"\u001b[39m\u001b[39m(Get-Item (Get-ItemProperty \u001b[39m\u001b[39m'\u001b[39m\u001b[39mHKLM:\u001b[39m\u001b[39m\\\u001b[39m\u001b[39mSOFTWARE\u001b[39m\u001b[39m\\\u001b[39m\u001b[39mMicrosoft\u001b[39m\u001b[39m\\\u001b[39m\u001b[39mWindows\u001b[39m\u001b[39m\\\u001b[39m\u001b[39mCurrentVersion\u001b[39m\u001b[39m\\\u001b[39m\u001b[39mApp Paths\u001b[39m\u001b[39m\\\u001b[39m\u001b[39mmsedge.exe\u001b[39m\u001b[39m'\u001b[39m\u001b[39m).\u001b[39m\u001b[39m'\u001b[39m\u001b[39m(Default)\u001b[39m\u001b[39m'\u001b[39m\u001b[39m).VersionInfo.ProductVersion\u001b[39m\u001b[39m\"\u001b[39m,\n\u001b[0;32m    139\u001b[0m                 \u001b[39mr\u001b[39m\u001b[39m\"\u001b[39m\u001b[39m[System.Diagnostics.FileVersionInfo]::GetVersionInfo((Get-ItemProperty \u001b[39m\u001b[39m'\u001b[39m\u001b[39mHKLM:\u001b[39m\u001b[39m\\\u001b[39m\u001b[39mSOFTWARE\u001b[39m\u001b[39m\\\u001b[39m\u001b[39mMicrosoft\u001b[39m\u001b[39m\\\u001b[39m\u001b[39mWindows\u001b[39m\u001b[39m\\\u001b[39m\u001b[39mCurrentVersion\u001b[39m\u001b[39m\\\u001b[39m\u001b[39mApp Paths\u001b[39m\u001b[39m\\\u001b[39m\u001b[39mmsedge.exe\u001b[39m\u001b[39m'\u001b[39m\u001b[39m).\u001b[39m\u001b[39m'\u001b[39m\u001b[39m(Default)\u001b[39m\u001b[39m'\u001b[39m\u001b[39m).ProductVersion\u001b[39m\u001b[39m\"\u001b[39m,\n\u001b[0;32m    140\u001b[0m                 \u001b[39mr\u001b[39m\u001b[39m\"\u001b[39m\u001b[39mGet-AppxPackage -Name *MicrosoftEdge.* | Foreach Version\u001b[39m\u001b[39m\"\u001b[39m,\n\u001b[0;32m    141\u001b[0m                 \u001b[39mr\u001b[39m\u001b[39m'\u001b[39m\u001b[39m(Get-ItemProperty -Path Registry::\u001b[39m\u001b[39m\"\u001b[39m\u001b[39mHKLM\u001b[39m\u001b[39m\\\u001b[39m\u001b[39mSOFTWARE\u001b[39m\u001b[39m\\\u001b[39m\u001b[39mWow6432Node\u001b[39m\u001b[39m\\\u001b[39m\u001b[39mMicrosoft\u001b[39m\u001b[39m\\\u001b[39m\u001b[39mWindows\u001b[39m\u001b[39m\\\u001b[39m\u001b[39mCurrentVersion\u001b[39m\u001b[39m\\\u001b[39m\u001b[39mUninstall\u001b[39m\u001b[39m\\\u001b[39m\u001b[39mMicrosoft Edge\u001b[39m\u001b[39m\"\u001b[39m\u001b[39m).version\u001b[39m\u001b[39m'\u001b[39m,\n\u001b[0;32m    142\u001b[0m             ),\n\u001b[0;32m    143\u001b[0m         },\n\u001b[0;32m    144\u001b[0m         \u001b[39m\"\u001b[39m\u001b[39mfirefox\u001b[39m\u001b[39m\"\u001b[39m: {\n\u001b[0;32m    145\u001b[0m             OSType\u001b[39m.\u001b[39mLINUX: linux_browser_apps_to_cmd(\u001b[39m\"\u001b[39m\u001b[39mfirefox\u001b[39m\u001b[39m\"\u001b[39m),\n\u001b[0;32m    146\u001b[0m             OSType\u001b[39m.\u001b[39mMAC: \u001b[39mr\u001b[39m\u001b[39m\"\u001b[39m\u001b[39m/Applications/Firefox.app/Contents/MacOS/firefox --version\u001b[39m\u001b[39m\"\u001b[39m,\n\u001b[0;32m    147\u001b[0m             OSType\u001b[39m.\u001b[39mWIN: windows_browser_apps_to_cmd(\n\u001b[0;32m    148\u001b[0m                 \u001b[39mr\u001b[39m\u001b[39m'\u001b[39m\u001b[39m(Get-Item -Path \u001b[39m\u001b[39m\"\u001b[39m\u001b[39m$env:PROGRAMFILES\u001b[39m\u001b[39m\\\u001b[39m\u001b[39mMozilla Firefox\u001b[39m\u001b[39m\\\u001b[39m\u001b[39mfirefox.exe\u001b[39m\u001b[39m\"\u001b[39m\u001b[39m).VersionInfo.FileVersion\u001b[39m\u001b[39m'\u001b[39m,\n\u001b[0;32m    149\u001b[0m                 \u001b[39mr\u001b[39m\u001b[39m'\u001b[39m\u001b[39m(Get-Item -Path \u001b[39m\u001b[39m\"\u001b[39m\u001b[39m$env:PROGRAMFILES (x86)\u001b[39m\u001b[39m\\\u001b[39m\u001b[39mMozilla Firefox\u001b[39m\u001b[39m\\\u001b[39m\u001b[39mfirefox.exe\u001b[39m\u001b[39m\"\u001b[39m\u001b[39m).VersionInfo.FileVersion\u001b[39m\u001b[39m'\u001b[39m,\n\u001b[0;32m    150\u001b[0m                 \u001b[39mr\u001b[39m\u001b[39m\"\u001b[39m\u001b[39m(Get-Item (Get-ItemProperty \u001b[39m\u001b[39m'\u001b[39m\u001b[39mHKLM:\u001b[39m\u001b[39m\\\u001b[39m\u001b[39mSOFTWARE\u001b[39m\u001b[39m\\\u001b[39m\u001b[39mMicrosoft\u001b[39m\u001b[39m\\\u001b[39m\u001b[39mWindows\u001b[39m\u001b[39m\\\u001b[39m\u001b[39mCurrentVersion\u001b[39m\u001b[39m\\\u001b[39m\u001b[39mApp Paths\u001b[39m\u001b[39m\\\u001b[39m\u001b[39mfirefox.exe\u001b[39m\u001b[39m'\u001b[39m\u001b[39m).\u001b[39m\u001b[39m'\u001b[39m\u001b[39m(Default)\u001b[39m\u001b[39m'\u001b[39m\u001b[39m).VersionInfo.ProductVersion\u001b[39m\u001b[39m\"\u001b[39m,\n\u001b[0;32m    151\u001b[0m                 \u001b[39mr\u001b[39m\u001b[39m'\u001b[39m\u001b[39m(Get-ItemProperty -Path Registry::\u001b[39m\u001b[39m\"\u001b[39m\u001b[39mHKLM\u001b[39m\u001b[39m\\\u001b[39m\u001b[39mSOFTWARE\u001b[39m\u001b[39m\\\u001b[39m\u001b[39mMozilla\u001b[39m\u001b[39m\\\u001b[39m\u001b[39mMozilla Firefox\u001b[39m\u001b[39m\"\u001b[39m\u001b[39m).CurrentVersion\u001b[39m\u001b[39m'\u001b[39m,\n\u001b[0;32m    152\u001b[0m             ),\n\u001b[0;32m    153\u001b[0m         },\n\u001b[0;32m    154\u001b[0m     }\n\u001b[0;32m    156\u001b[0m     \u001b[39mtry\u001b[39;00m:\n\u001b[0;32m    157\u001b[0m         cmd_mapping \u001b[39m=\u001b[39m cmd_mapping[browser_type][OperationSystemManager\u001b[39m.\u001b[39mget_os_name()]\n",
      "File \u001b[1;32mc:\\Users\\micae\\anaconda3\\Lib\\site-packages\\webdriver_manager\\core\\utils.py:28\u001b[0m, in \u001b[0;36mwindows_browser_apps_to_cmd\u001b[1;34m(*apps)\u001b[0m\n\u001b[0;32m     26\u001b[0m \u001b[39mdef\u001b[39;00m \u001b[39mwindows_browser_apps_to_cmd\u001b[39m(\u001b[39m*\u001b[39mapps: \u001b[39mstr\u001b[39m) \u001b[39m-\u001b[39m\u001b[39m>\u001b[39m \u001b[39mstr\u001b[39m:\n\u001b[0;32m     27\u001b[0m \u001b[39m    \u001b[39m\u001b[39m\"\"\"Create analogue of browser --version command for windows.\"\"\"\u001b[39;00m\n\u001b[1;32m---> 28\u001b[0m     powershell \u001b[39m=\u001b[39m determine_powershell()\n\u001b[0;32m     30\u001b[0m     first_hit_template \u001b[39m=\u001b[39m \u001b[39m\"\"\"\u001b[39m\u001b[39m$tmp = \u001b[39m\u001b[39m{expression}\u001b[39;00m\u001b[39m; if ($tmp) \u001b[39m\u001b[39m{{\u001b[39m\u001b[39mecho $tmp; Exit;}};\u001b[39m\u001b[39m\"\"\"\u001b[39m\n\u001b[0;32m     31\u001b[0m     script \u001b[39m=\u001b[39m \u001b[39m\"\u001b[39m\u001b[39m$ErrorActionPreference=\u001b[39m\u001b[39m'\u001b[39m\u001b[39msilentlycontinue\u001b[39m\u001b[39m'\u001b[39m\u001b[39m; \u001b[39m\u001b[39m\"\u001b[39m \u001b[39m+\u001b[39m \u001b[39m\"\u001b[39m\u001b[39m \u001b[39m\u001b[39m\"\u001b[39m\u001b[39m.\u001b[39mjoin(\n\u001b[0;32m     32\u001b[0m         first_hit_template\u001b[39m.\u001b[39mformat(expression\u001b[39m=\u001b[39me) \u001b[39mfor\u001b[39;00m e \u001b[39min\u001b[39;00m apps\n\u001b[0;32m     33\u001b[0m     )\n",
      "File \u001b[1;32mc:\\Users\\micae\\anaconda3\\Lib\\site-packages\\webdriver_manager\\core\\utils.py:61\u001b[0m, in \u001b[0;36mdetermine_powershell\u001b[1;34m()\u001b[0m\n\u001b[0;32m     53\u001b[0m cmd \u001b[39m=\u001b[39m \u001b[39m\"\u001b[39m\u001b[39m(dir 2>&1 *`|echo CMD);&<# rem #>echo powershell\u001b[39m\u001b[39m\"\u001b[39m\n\u001b[0;32m     54\u001b[0m \u001b[39mwith\u001b[39;00m subprocess\u001b[39m.\u001b[39mPopen(\n\u001b[0;32m     55\u001b[0m         cmd,\n\u001b[0;32m     56\u001b[0m         stdout\u001b[39m=\u001b[39msubprocess\u001b[39m.\u001b[39mPIPE,\n\u001b[1;32m   (...)\u001b[0m\n\u001b[0;32m     59\u001b[0m         shell\u001b[39m=\u001b[39m\u001b[39mTrue\u001b[39;00m,\n\u001b[0;32m     60\u001b[0m ) \u001b[39mas\u001b[39;00m stream:\n\u001b[1;32m---> 61\u001b[0m     stdout \u001b[39m=\u001b[39m stream\u001b[39m.\u001b[39mcommunicate()[\u001b[39m0\u001b[39m]\u001b[39m.\u001b[39mdecode()\n\u001b[0;32m     62\u001b[0m \u001b[39mreturn\u001b[39;00m \u001b[39m\"\u001b[39m\u001b[39m\"\u001b[39m \u001b[39mif\u001b[39;00m stdout \u001b[39m==\u001b[39m \u001b[39m\"\u001b[39m\u001b[39mpowershell\u001b[39m\u001b[39m\"\u001b[39m \u001b[39melse\u001b[39;00m \u001b[39m\"\u001b[39m\u001b[39mpowershell\u001b[39m\u001b[39m\"\u001b[39m\n",
      "File \u001b[1;32mc:\\Users\\micae\\anaconda3\\Lib\\subprocess.py:1196\u001b[0m, in \u001b[0;36mPopen.communicate\u001b[1;34m(self, input, timeout)\u001b[0m\n\u001b[0;32m   1194\u001b[0m     \u001b[39mself\u001b[39m\u001b[39m.\u001b[39m_stdin_write(\u001b[39minput\u001b[39m)\n\u001b[0;32m   1195\u001b[0m \u001b[39melif\u001b[39;00m \u001b[39mself\u001b[39m\u001b[39m.\u001b[39mstdout:\n\u001b[1;32m-> 1196\u001b[0m     stdout \u001b[39m=\u001b[39m \u001b[39mself\u001b[39m\u001b[39m.\u001b[39mstdout\u001b[39m.\u001b[39mread()\n\u001b[0;32m   1197\u001b[0m     \u001b[39mself\u001b[39m\u001b[39m.\u001b[39mstdout\u001b[39m.\u001b[39mclose()\n\u001b[0;32m   1198\u001b[0m \u001b[39melif\u001b[39;00m \u001b[39mself\u001b[39m\u001b[39m.\u001b[39mstderr:\n",
      "\u001b[1;31mKeyboardInterrupt\u001b[0m: "
     ]
    }
   ],
   "source": [
    "navegador = webdriver.Edge(EdgeChromiumDriverManager().install())"
   ]
  },
  {
   "cell_type": "markdown",
   "metadata": {},
   "source": [
    "##### Abre o termo e encontra a primeira linha"
   ]
  },
  {
   "cell_type": "code",
   "execution_count": null,
   "metadata": {},
   "outputs": [],
   "source": [
    "navegador.get('https://term.ooo/')\n",
    "# Localize o elemento que contém o shadow DOM\n",
    "board = navegador.find_element_by_xpath('//*[@id=\"board0\"]') \n",
    "\n",
    "# Execute um script JavaScript para acessar o shadow DOM e localizar o elemento dentro dele\n",
    "shadow_root_board = 'return arguments[0].shadowRoot.querySelector(\\'wc-row[termo-row=\"1\"]\\');' \n",
    "linha_0 = navegador.execute_script(shadow_root_board, board)\n"
   ]
  },
  {
   "cell_type": "code",
   "execution_count": null,
   "metadata": {},
   "outputs": [],
   "source": [
    "linha_0.send_keys(melhor_primeira_palavra())\n",
    "linha_0.send_keys(Keys.ENTER)\n"
   ]
  },
  {
   "cell_type": "code",
   "execution_count": null,
   "metadata": {},
   "outputs": [],
   "source": [
    "letras = [[],[],[],[],[]]\n",
    "for i in range(len(letras)):\n",
    "    shadow_root_line = f'return arguments[0].shadowRoot.querySelector(\\'[lid=\"{i}\"][termo-row=\"0\"][termo-pos=\"{i}\"]\\');'\n",
    "    letras[i] = navegador.execute_script(shadow_root_line, linha_0)"
   ]
  },
  {
   "cell_type": "code",
   "execution_count": null,
   "metadata": {},
   "outputs": [
    {
     "ename": "AttributeError",
     "evalue": "'NoneType' object has no attribute 'get_attribute'",
     "output_type": "error",
     "traceback": [
      "\u001b[1;31m---------------------------------------------------------------------------\u001b[0m",
      "\u001b[1;31mAttributeError\u001b[0m                            Traceback (most recent call last)",
      "\u001b[1;32md:\\root\\Estudos\\Independente\\programacao\\Termo_crusher\\notebook.ipynb Cell 28\u001b[0m line \u001b[0;36m6\n\u001b[0;32m      <a href='vscode-notebook-cell:/d%3A/root/Estudos/Independente/programacao/Termo_crusher/notebook.ipynb#X32sZmlsZQ%3D%3D?line=2'>3</a>\u001b[0m padrao \u001b[39m=\u001b[39m \u001b[39mr\u001b[39m\u001b[39m'\u001b[39m\u001b[39mletra \u001b[39m\u001b[39m\"\u001b[39m\u001b[39m([^\u001b[39m\u001b[39m\"\u001b[39m\u001b[39m]*)\u001b[39m\u001b[39m\"\u001b[39m\u001b[39m\\\u001b[39m\u001b[39ms+([^\u001b[39m\u001b[39m\"\u001b[39m\u001b[39m]*)\u001b[39m\u001b[39m'\u001b[39m\n\u001b[0;32m      <a href='vscode-notebook-cell:/d%3A/root/Estudos/Independente/programacao/Termo_crusher/notebook.ipynb#X32sZmlsZQ%3D%3D?line=4'>5</a>\u001b[0m \u001b[39mfor\u001b[39;00m i \u001b[39min\u001b[39;00m \u001b[39mrange\u001b[39m(\u001b[39mlen\u001b[39m(letras)):\n\u001b[1;32m----> <a href='vscode-notebook-cell:/d%3A/root/Estudos/Independente/programacao/Termo_crusher/notebook.ipynb#X32sZmlsZQ%3D%3D?line=5'>6</a>\u001b[0m     status \u001b[39m=\u001b[39m letras[i]\u001b[39m.\u001b[39mget_attribute(\u001b[39m'\u001b[39m\u001b[39maria-label\u001b[39m\u001b[39m'\u001b[39m)\n\u001b[0;32m      <a href='vscode-notebook-cell:/d%3A/root/Estudos/Independente/programacao/Termo_crusher/notebook.ipynb#X32sZmlsZQ%3D%3D?line=6'>7</a>\u001b[0m     \u001b[39m# Encontre todas as correspondências\u001b[39;00m\n\u001b[0;32m      <a href='vscode-notebook-cell:/d%3A/root/Estudos/Independente/programacao/Termo_crusher/notebook.ipynb#X32sZmlsZQ%3D%3D?line=7'>8</a>\u001b[0m     correspondencias \u001b[39m=\u001b[39m re\u001b[39m.\u001b[39msearch(padrao, status)\n",
      "\u001b[1;31mAttributeError\u001b[0m: 'NoneType' object has no attribute 'get_attribute'"
     ]
    }
   ],
   "source": [
    "import re\n",
    "# Use uma expressão regular para extrair a palavra após a letra\n",
    "padrao = r'letra \"([^\"]*)\"\\s+([^\"]*)'\n",
    "\n",
    "for i in range(len(letras)):\n",
    "    status = letras[i].get_attribute('aria-label')\n",
    "    # Encontre todas as correspondências\n",
    "    correspondencias = re.search(padrao, status)\n",
    "\n",
    "    # Verifique se houve correspondência e obtenha a palavra\n",
    "    if correspondencias:\n",
    "        letra = correspondencias.group(1)\n",
    "        feedback = correspondencias.group(2)\n",
    "        print(\"Letra:\", letra)\n",
    "        print(\"Feedback\", feedback)\n",
    "    else:\n",
    "        print(\"Nenhuma correspondência encontrada.\")\n"
   ]
  }
 ],
 "metadata": {
  "kernelspec": {
   "display_name": "base",
   "language": "python",
   "name": "python3"
  },
  "language_info": {
   "codemirror_mode": {
    "name": "ipython",
    "version": 3
   },
   "file_extension": ".py",
   "mimetype": "text/x-python",
   "name": "python",
   "nbconvert_exporter": "python",
   "pygments_lexer": "ipython3",
   "version": "3.11.4"
  },
  "orig_nbformat": 4
 },
 "nbformat": 4,
 "nbformat_minor": 2
}
